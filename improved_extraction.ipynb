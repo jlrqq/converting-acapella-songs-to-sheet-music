{
 "cells": [
  {
   "cell_type": "code",
   "execution_count": 2,
   "metadata": {},
   "outputs": [],
   "source": [
    "import pandas as pd\n",
    "import librosa\n",
    "import numpy as np"
   ]
  },
  {
   "cell_type": "code",
   "execution_count": 3,
   "metadata": {},
   "outputs": [],
   "source": [
    "# Load ground truth annotations from CSV file\n",
    "ground_truth_path = \"../data/csv/en001a.csv\"\n",
    "ground_truth = pd.read_csv(ground_truth_path)\n",
    "\n",
    "# Load audio file\n",
    "audio_path = \"../data/wav/en001a.wav\"\n",
    "audio_data, sr = librosa.load(audio_path)"
   ]
  },
  {
   "cell_type": "code",
   "execution_count": 4,
   "metadata": {},
   "outputs": [],
   "source": [
    "# Define a function to extract features from an audio segment\n",
    "def extract_features(audio_data, onset, offset):\n",
    "    # Extract the audio segment\n",
    "    segment = audio_data[int(onset * sr):int(offset * sr)]\n",
    "    # Extract features (e.g., MFCCs)\n",
    "    features = librosa.feature.mfcc(y=segment, sr=sr, n_mfcc=13)\n",
    "    return features.T  # Transpose to have shape (n_frames, n_mfcc)"
   ]
  },
  {
   "cell_type": "code",
   "execution_count": 6,
   "metadata": {},
   "outputs": [],
   "source": [
    "# Extract features according to ground truth annotations\n",
    "features = []\n",
    "pitch_values = []\n",
    "for _, row in ground_truth.iterrows():\n",
    "    onset, offset, pitch = row['start'], row['end'], row['pitch']\n",
    "    segment_features = extract_features(audio_data, onset, offset)\n",
    "    features.append(segment_features)\n",
    "    pitch_values.extend([pitch] * segment_features.shape[0])\n",
    "\n",
    "# Convert features and pitch_values to numpy arrays\n",
    "features = np.vstack(features)\n",
    "pitch_values = np.array(pitch_values)\n"
   ]
  },
  {
   "cell_type": "code",
   "execution_count": 7,
   "metadata": {},
   "outputs": [],
   "source": [
    "from sklearn.model_selection import train_test_split\n",
    "from sklearn.preprocessing import StandardScaler\n",
    "from tensorflow.keras.models import Sequential\n",
    "from tensorflow.keras.layers import LSTM, Dense, Dropout"
   ]
  },
  {
   "cell_type": "code",
   "execution_count": 22,
   "metadata": {},
   "outputs": [
    {
     "name": "stdout",
     "output_type": "stream",
     "text": [
      "Epoch 1/35\n",
      "282/282 [==============================] - 5s 8ms/step - loss: 48.3485 - val_loss: 3.7486\n",
      "Epoch 2/35\n",
      "282/282 [==============================] - 1s 4ms/step - loss: 5.8793 - val_loss: 10.4925\n",
      "Epoch 3/35\n",
      "282/282 [==============================] - 1s 4ms/step - loss: 4.9785 - val_loss: 4.7369\n",
      "Epoch 4/35\n",
      "282/282 [==============================] - 1s 4ms/step - loss: 4.5104 - val_loss: 5.2511\n",
      "Epoch 5/35\n",
      "282/282 [==============================] - 1s 4ms/step - loss: 4.2124 - val_loss: 7.8040\n",
      "Epoch 6/35\n",
      "282/282 [==============================] - 1s 4ms/step - loss: 3.9519 - val_loss: 2.3411\n",
      "Epoch 7/35\n",
      "282/282 [==============================] - 1s 4ms/step - loss: 3.3997 - val_loss: 4.1111\n",
      "Epoch 8/35\n",
      "282/282 [==============================] - 1s 4ms/step - loss: 3.0813 - val_loss: 6.1138\n",
      "Epoch 9/35\n",
      "282/282 [==============================] - 1s 4ms/step - loss: 3.0976 - val_loss: 6.3351\n",
      "Epoch 10/35\n",
      "282/282 [==============================] - 1s 4ms/step - loss: 2.6801 - val_loss: 2.6081\n",
      "Epoch 11/35\n",
      "282/282 [==============================] - 1s 4ms/step - loss: 2.8043 - val_loss: 2.8214\n",
      "Epoch 12/35\n",
      "282/282 [==============================] - 1s 4ms/step - loss: 2.4264 - val_loss: 3.6023\n",
      "Epoch 13/35\n",
      "282/282 [==============================] - 1s 4ms/step - loss: 2.4440 - val_loss: 1.9865\n",
      "Epoch 14/35\n",
      "282/282 [==============================] - 1s 4ms/step - loss: 2.3771 - val_loss: 1.8825\n",
      "Epoch 15/35\n",
      "282/282 [==============================] - 1s 4ms/step - loss: 2.3717 - val_loss: 1.7333\n",
      "Epoch 16/35\n",
      "282/282 [==============================] - 1s 4ms/step - loss: 2.1695 - val_loss: 7.2733\n",
      "Epoch 17/35\n",
      "282/282 [==============================] - 2s 5ms/step - loss: 2.1929 - val_loss: 1.5911\n",
      "Epoch 18/35\n",
      "282/282 [==============================] - 2s 6ms/step - loss: 1.9528 - val_loss: 4.1145\n",
      "Epoch 19/35\n",
      "282/282 [==============================] - 2s 6ms/step - loss: 2.0332 - val_loss: 1.5246\n",
      "Epoch 20/35\n",
      "282/282 [==============================] - 2s 6ms/step - loss: 1.9958 - val_loss: 12.2656\n",
      "Epoch 21/35\n",
      "282/282 [==============================] - 2s 6ms/step - loss: 1.9698 - val_loss: 7.0618\n",
      "Epoch 22/35\n",
      "282/282 [==============================] - 2s 6ms/step - loss: 1.8293 - val_loss: 2.6335\n",
      "Epoch 23/35\n",
      "282/282 [==============================] - 2s 6ms/step - loss: 1.8591 - val_loss: 6.4761\n",
      "Epoch 24/35\n",
      "282/282 [==============================] - 2s 7ms/step - loss: 1.7955 - val_loss: 1.8789\n",
      "Epoch 25/35\n",
      "282/282 [==============================] - 2s 8ms/step - loss: 1.8685 - val_loss: 3.5369\n",
      "Epoch 26/35\n",
      "282/282 [==============================] - 2s 8ms/step - loss: 1.7512 - val_loss: 3.4977\n",
      "Epoch 27/35\n",
      "282/282 [==============================] - 2s 6ms/step - loss: 1.7826 - val_loss: 2.3347\n",
      "Epoch 28/35\n",
      "282/282 [==============================] - 2s 5ms/step - loss: 1.7249 - val_loss: 1.9285\n",
      "Epoch 29/35\n",
      "282/282 [==============================] - 2s 6ms/step - loss: 1.6359 - val_loss: 3.7508\n",
      "Epoch 30/35\n",
      "282/282 [==============================] - 2s 6ms/step - loss: 1.6197 - val_loss: 2.6488\n",
      "Epoch 31/35\n",
      "282/282 [==============================] - 1s 5ms/step - loss: 1.4659 - val_loss: 2.5040\n",
      "Epoch 32/35\n",
      "282/282 [==============================] - 1s 5ms/step - loss: 1.5073 - val_loss: 3.0540\n",
      "Epoch 33/35\n",
      "282/282 [==============================] - 1s 4ms/step - loss: 1.4778 - val_loss: 1.4372\n",
      "Epoch 34/35\n",
      "282/282 [==============================] - 1s 5ms/step - loss: 1.5672 - val_loss: 2.2122\n",
      "Epoch 35/35\n",
      "282/282 [==============================] - 1s 4ms/step - loss: 1.5748 - val_loss: 4.9028\n"
     ]
    },
    {
     "data": {
      "text/plain": [
       "<keras.callbacks.History at 0x1b49fe62530>"
      ]
     },
     "execution_count": 22,
     "metadata": {},
     "output_type": "execute_result"
    }
   ],
   "source": [
    "# Split the data into training and test sets\n",
    "X_train, X_test, y_train, y_test = train_test_split(features, pitch_values, test_size=0.2, random_state=42)\n",
    "\n",
    "# Scale the features\n",
    "scaler = StandardScaler()\n",
    "X_train_scaled = scaler.fit_transform(X_train)\n",
    "X_test_scaled = scaler.transform(X_test)\n",
    "\n",
    "# Reshape features for LSTM input (assuming LSTM expects input shape of (n_samples, n_timesteps, n_features))\n",
    "X_train_reshaped = X_train_scaled.reshape(X_train_scaled.shape[0], 1, X_train_scaled.shape[1])\n",
    "X_test_reshaped = X_test_scaled.reshape(X_test_scaled.shape[0], 1, X_test_scaled.shape[1])\n",
    "\n",
    "# Define the LSTM model\n",
    "model = Sequential([\n",
    "    LSTM(128, input_shape=(X_train_reshaped.shape[1], X_train_reshaped.shape[2]), return_sequences=True),\n",
    "    Dropout(0.2),\n",
    "    LSTM(128),\n",
    "    Dropout(0.2),\n",
    "    Dense(128, activation='tanh'),\n",
    "    Dense(1)  # Output layer for pitch prediction\n",
    "])\n",
    "\n",
    "# Compile the model\n",
    "model.compile(optimizer='SGD', loss='mse')\n",
    "\n",
    "# Train the model\n",
    "model.fit(X_train_reshaped, y_train, validation_data=(X_test_reshaped, y_test), epochs=35, batch_size=5)"
   ]
  },
  {
   "cell_type": "code",
   "execution_count": 20,
   "metadata": {},
   "outputs": [
    {
     "name": "stdout",
     "output_type": "stream",
     "text": [
      "11/11 [==============================] - 1s 2ms/step\n",
      "Mean Squared Error: 1.5721085534938455\n",
      "Mean Absolute Error: 0.9053322510285811\n"
     ]
    }
   ],
   "source": [
    "from sklearn.metrics import mean_squared_error, mean_absolute_error\n",
    "\n",
    "# Make predictions on the test set\n",
    "y_pred = model.predict(X_test_reshaped).flatten()\n",
    "\n",
    "# Calculate mean squared error\n",
    "mse = mean_squared_error(y_test, y_pred)\n",
    "\n",
    "# Calculate mean absolute error\n",
    "mae = mean_absolute_error(y_test, y_pred)\n",
    "\n",
    "print(\"Mean Squared Error:\", mse)\n",
    "print(\"Mean Absolute Error:\", mae)\n"
   ]
  },
  {
   "cell_type": "code",
   "execution_count": 21,
   "metadata": {},
   "outputs": [
    {
     "name": "stdout",
     "output_type": "stream",
     "text": [
      "[63.310265 66.140205 63.411278 68.35091  66.401215 66.12492  69.02496\n",
      " 67.69756  63.823586 67.90542 ]\n",
      "[63 66 61 68 66 66 70 68 65 66]\n"
     ]
    }
   ],
   "source": [
    "print(y_pred[:10])\n",
    "print(y_test[:10])"
   ]
  },
  {
   "cell_type": "code",
   "execution_count": null,
   "metadata": {},
   "outputs": [],
   "source": []
  }
 ],
 "metadata": {
  "kernelspec": {
   "display_name": ".venv",
   "language": "python",
   "name": "python3"
  },
  "language_info": {
   "codemirror_mode": {
    "name": "ipython",
    "version": 3
   },
   "file_extension": ".py",
   "mimetype": "text/x-python",
   "name": "python",
   "nbconvert_exporter": "python",
   "pygments_lexer": "ipython3",
   "version": "3.10.2"
  }
 },
 "nbformat": 4,
 "nbformat_minor": 2
}
