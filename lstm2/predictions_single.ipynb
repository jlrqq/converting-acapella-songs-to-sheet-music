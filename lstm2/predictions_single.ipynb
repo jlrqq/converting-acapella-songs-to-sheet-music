{
 "cells": [
  {
   "cell_type": "code",
   "execution_count": 1,
   "metadata": {},
   "outputs": [],
   "source": [
    "import pandas as pd\n",
    "import librosa\n",
    "import numpy as np\n",
    "import joblib"
   ]
  },
  {
   "cell_type": "code",
   "execution_count": 2,
   "metadata": {},
   "outputs": [],
   "source": [
    "# Load ground truth annotations from CSV file\n",
    "ground_truth_path = \"../data/csv/en001a.csv\"\n",
    "ground_truth = pd.read_csv(ground_truth_path)\n",
    "\n",
    "# Load audio file\n",
    "audio_path = \"../data/wav/en001a.wav\"\n",
    "audio_data, sr = librosa.load(audio_path)"
   ]
  },
  {
   "cell_type": "code",
   "execution_count": 3,
   "metadata": {},
   "outputs": [],
   "source": [
    "# Define a function to extract features from an audio segment\n",
    "def extract_features(audio_data, onset, offset):\n",
    "    # trim\n",
    "    y_trimmed, _ = librosa.effects.trim(audio_data)\n",
    "    # Extract the audio segment\n",
    "    segment = y_trimmed[int(onset * sr):int(offset * sr)]\n",
    "    # Extract features (e.g., MFCCs)\n",
    "    features = librosa.feature.mfcc(y=segment, sr=sr, n_mfcc=13)\n",
    "    return features.T  # Transpose to have shape (n_frames, n_mfcc)"
   ]
  },
  {
   "cell_type": "code",
   "execution_count": 4,
   "metadata": {},
   "outputs": [
    {
     "name": "stderr",
     "output_type": "stream",
     "text": [
      "c:\\Users\\Admin\\OneDrive - Singapore Management University\\Desktop\\data mining\\project\\test\\.venv\\lib\\site-packages\\librosa\\core\\spectrum.py:257: UserWarning: n_fft=2048 is too large for input signal of length=0\n",
      "  warnings.warn(\n"
     ]
    }
   ],
   "source": [
    "# Extract features according to ground truth annotations\n",
    "features = []\n",
    "pitch_values = []\n",
    "for _, row in ground_truth.iterrows():\n",
    "    onset, offset, pitch = row['start'], row['end'], row['pitch']\n",
    "    segment_features = extract_features(audio_data, onset, offset)\n",
    "    features.append(segment_features)\n",
    "    pitch_values.extend([pitch] * segment_features.shape[0])\n",
    "\n",
    "# Convert features and pitch_values to numpy arrays\n",
    "features = np.vstack(features)\n",
    "pitch_values = np.array(pitch_values)\n"
   ]
  },
  {
   "cell_type": "code",
   "execution_count": 5,
   "metadata": {},
   "outputs": [],
   "source": [
    "from sklearn.model_selection import train_test_split\n",
    "from sklearn.preprocessing import StandardScaler\n",
    "from tensorflow.keras.models import Sequential\n",
    "from tensorflow.keras.layers import LSTM, Dense, Dropout\n",
    "from tensorflow.keras.models import save_model\n",
    "from sklearn.preprocessing import MinMaxScaler\n",
    "from tensorflow.keras.optimizers import Adadelta"
   ]
  },
  {
   "cell_type": "code",
   "execution_count": 6,
   "metadata": {},
   "outputs": [],
   "source": [
    "# Split the data into training and test sets\n",
    "X_train, X_test, y_train, y_test = train_test_split(features, pitch_values, test_size=0.2, random_state=42)\n",
    "\n",
    "# Scale the features\n",
    "s_scaler = StandardScaler()\n",
    "X_train_scaled = s_scaler.fit_transform(X_train)\n",
    "X_test_scaled = s_scaler.transform(X_test)\n",
    "\n",
    "# Reshape y_train to 2D array for fitting the scaler\n",
    "y_train_reshaped = y_train.reshape(-1, 1)\n",
    "\n",
    "# Fit the MinMaxScaler on the y_train_reshaped\n",
    "scaler = MinMaxScaler(feature_range=(0, 127)) # MIDI notes range from 0 to 127\n",
    "scaler.fit(y_train_reshaped)\n",
    "\n",
    "# Reshape features for LSTM input (assuming LSTM expects input shape of (n_samples, n_timesteps, n_features))\n",
    "X_train_reshaped = X_train_scaled.reshape(X_train_scaled.shape[0], 1, X_train_scaled.shape[1])\n",
    "X_test_reshaped = X_test_scaled.reshape(X_test_scaled.shape[0], 1, X_test_scaled.shape[1])"
   ]
  },
  {
   "cell_type": "code",
   "execution_count": 7,
   "metadata": {},
   "outputs": [
    {
     "data": {
      "text/plain": [
       "(1373, 1, 13)"
      ]
     },
     "execution_count": 7,
     "metadata": {},
     "output_type": "execute_result"
    }
   ],
   "source": [
    "X_train_reshaped.shape"
   ]
  },
  {
   "cell_type": "code",
   "execution_count": 8,
   "metadata": {},
   "outputs": [
    {
     "name": "stdout",
     "output_type": "stream",
     "text": [
      "Epoch 1/35\n",
      "275/275 [==============================] - 5s 7ms/step - loss: 51.1410 - val_loss: 7.3288\n",
      "Epoch 2/35\n",
      "275/275 [==============================] - 1s 4ms/step - loss: 9.0095 - val_loss: 28.3827\n",
      "Epoch 3/35\n",
      "275/275 [==============================] - 1s 4ms/step - loss: 9.1985 - val_loss: 11.3010\n",
      "Epoch 4/35\n",
      "275/275 [==============================] - 1s 4ms/step - loss: 7.9015 - val_loss: 5.9785\n",
      "Epoch 5/35\n",
      "275/275 [==============================] - 1s 4ms/step - loss: 7.7160 - val_loss: 15.6755\n",
      "Epoch 6/35\n",
      "275/275 [==============================] - 1s 4ms/step - loss: 7.0978 - val_loss: 13.0193\n",
      "Epoch 7/35\n",
      "275/275 [==============================] - 1s 4ms/step - loss: 5.9242 - val_loss: 5.3690\n",
      "Epoch 8/35\n",
      "275/275 [==============================] - 1s 4ms/step - loss: 5.9178 - val_loss: 4.2243\n",
      "Epoch 9/35\n",
      "275/275 [==============================] - 1s 4ms/step - loss: 5.9358 - val_loss: 4.8469\n",
      "Epoch 10/35\n",
      "275/275 [==============================] - 1s 4ms/step - loss: 5.4450 - val_loss: 5.0459\n",
      "Epoch 11/35\n",
      "275/275 [==============================] - 1s 4ms/step - loss: 5.4761 - val_loss: 6.1032\n",
      "Epoch 12/35\n",
      "275/275 [==============================] - 1s 4ms/step - loss: 4.7505 - val_loss: 4.0360\n",
      "Epoch 13/35\n",
      "275/275 [==============================] - 1s 4ms/step - loss: 4.4273 - val_loss: 3.9670\n",
      "Epoch 14/35\n",
      "275/275 [==============================] - 1s 4ms/step - loss: 4.8058 - val_loss: 4.1439\n",
      "Epoch 15/35\n",
      "275/275 [==============================] - 1s 4ms/step - loss: 4.6569 - val_loss: 3.1926\n",
      "Epoch 16/35\n",
      "275/275 [==============================] - 1s 4ms/step - loss: 4.4547 - val_loss: 3.3882\n",
      "Epoch 17/35\n",
      "275/275 [==============================] - 1s 4ms/step - loss: 4.1673 - val_loss: 3.8274\n",
      "Epoch 18/35\n",
      "275/275 [==============================] - 1s 4ms/step - loss: 4.1168 - val_loss: 3.9203\n",
      "Epoch 19/35\n",
      "275/275 [==============================] - 1s 4ms/step - loss: 4.0833 - val_loss: 3.0648\n",
      "Epoch 20/35\n",
      "275/275 [==============================] - 1s 4ms/step - loss: 4.0281 - val_loss: 5.7285\n",
      "Epoch 21/35\n",
      "275/275 [==============================] - 1s 4ms/step - loss: 4.0098 - val_loss: 3.4691\n",
      "Epoch 22/35\n",
      "275/275 [==============================] - 1s 4ms/step - loss: 4.3371 - val_loss: 3.1447\n",
      "Epoch 23/35\n",
      "275/275 [==============================] - 1s 4ms/step - loss: 3.7319 - val_loss: 5.0533\n",
      "Epoch 24/35\n",
      "275/275 [==============================] - 1s 4ms/step - loss: 3.8837 - val_loss: 3.0035\n",
      "Epoch 25/35\n",
      "275/275 [==============================] - 1s 4ms/step - loss: 3.8167 - val_loss: 4.8266\n",
      "Epoch 26/35\n",
      "275/275 [==============================] - 1s 5ms/step - loss: 3.6739 - val_loss: 10.9789\n",
      "Epoch 27/35\n",
      "275/275 [==============================] - 1s 5ms/step - loss: 3.6367 - val_loss: 3.1630\n",
      "Epoch 28/35\n",
      "275/275 [==============================] - 1s 5ms/step - loss: 3.5898 - val_loss: 4.0733\n",
      "Epoch 29/35\n",
      "275/275 [==============================] - 1s 5ms/step - loss: 3.3079 - val_loss: 2.9170\n",
      "Epoch 30/35\n",
      "275/275 [==============================] - 2s 6ms/step - loss: 3.4507 - val_loss: 4.3661\n",
      "Epoch 31/35\n",
      "275/275 [==============================] - 2s 6ms/step - loss: 3.2597 - val_loss: 3.4517\n",
      "Epoch 32/35\n",
      "275/275 [==============================] - 2s 6ms/step - loss: 3.4379 - val_loss: 4.4337\n",
      "Epoch 33/35\n",
      "275/275 [==============================] - 2s 5ms/step - loss: 3.2961 - val_loss: 2.7160\n",
      "Epoch 34/35\n",
      "275/275 [==============================] - 1s 5ms/step - loss: 3.1939 - val_loss: 2.8974\n",
      "Epoch 35/35\n",
      "275/275 [==============================] - 1s 5ms/step - loss: 3.2047 - val_loss: 2.7682\n"
     ]
    },
    {
     "data": {
      "text/plain": [
       "<keras.callbacks.History at 0x1d86c008c70>"
      ]
     },
     "execution_count": 8,
     "metadata": {},
     "output_type": "execute_result"
    }
   ],
   "source": [
    "# Define the LSTM model\n",
    "model = Sequential([\n",
    "    LSTM(128, input_shape=(X_train_reshaped.shape[1], X_train_reshaped.shape[2]), return_sequences=True),\n",
    "    # LSTM(128, input_shape=(X_train_reshaped.shape[1], ), return_sequences=True),\n",
    "    Dropout(0.2),\n",
    "    LSTM(128),\n",
    "    Dropout(0.2),\n",
    "    Dense(128, activation='tanh'),\n",
    "    Dense(1)  # Output layer for pitch prediction\n",
    "])\n",
    "# Adadelta optimizer\n",
    "# optimizer = Adadelta(learning_rate=1.0)\n",
    "# Compile the model\n",
    "# model.compile(optimizer=optimizer, loss='mse')\n",
    "model.compile(optimizer='SGD', loss='mse')\n",
    "\n",
    "# Train the model\n",
    "model.fit(X_train_reshaped, y_train, validation_data=(X_test_reshaped, y_test), epochs=35, batch_size=5)"
   ]
  },
  {
   "cell_type": "code",
   "execution_count": 9,
   "metadata": {},
   "outputs": [
    {
     "name": "stdout",
     "output_type": "stream",
     "text": [
      "11/11 [==============================] - 1s 2ms/step\n",
      "Mean Squared Error: 2.9593023255813953\n",
      "Mean Absolute Error: 1.302325581395349\n"
     ]
    }
   ],
   "source": [
    "from sklearn.metrics import mean_squared_error, mean_absolute_error\n",
    "\n",
    "# Make predictions on the test set\n",
    "y_pred = model.predict(X_test_reshaped).flatten()\n",
    "y_pred = [int(i) for i in y_pred]\n",
    "\n",
    "# Calculate mean squared error\n",
    "mse = mean_squared_error(y_test, y_pred)\n",
    "\n",
    "# Calculate mean absolute error\n",
    "mae = mean_absolute_error(y_test, y_pred)\n",
    "\n",
    "print(\"Mean Squared Error:\", mse)\n",
    "print(\"Mean Absolute Error:\", mae)\n"
   ]
  },
  {
   "cell_type": "code",
   "execution_count": 10,
   "metadata": {},
   "outputs": [
    {
     "name": "stdout",
     "output_type": "stream",
     "text": [
      "[61, 66, 70, 68, 64, 66, 68, 64, 64, 63, 66, 68, 66, 65, 64, 65, 64, 68, 67, 61, 62, 65, 64, 65, 65, 66, 65, 67, 65, 64, 67, 66, 66, 64, 66, 62, 66, 66, 62, 66, 65, 66, 63, 63, 68, 64, 65, 61, 66, 65, 65, 66, 67, 61, 66, 64, 64, 65, 66, 64, 64, 67, 65, 61, 68, 66, 63, 67, 67, 65, 68, 60, 64, 62, 64, 68, 65, 61, 66, 63, 68, 68, 68, 67, 64, 66, 68, 68, 63, 67, 65, 65, 68, 65, 65, 67, 66, 65, 65, 65, 68, 66, 65, 65, 67, 64, 67, 67, 64, 64, 65, 66, 65, 66, 62, 65, 66, 62, 65, 63, 67, 60, 69, 67, 60, 66, 68, 65, 65, 64, 67, 60, 68, 65, 60, 62, 67, 64, 67, 65, 66, 66, 60, 67, 63, 62, 67, 65, 60, 66, 68, 67, 64, 69, 62, 65, 62, 67, 65, 62, 68, 66, 67, 66, 66, 68, 61, 64, 65, 65, 64, 63, 67, 67, 64, 64, 64, 66, 66, 66, 64, 68, 66, 63, 66, 65, 63, 62, 67, 66, 65, 67, 67, 66, 66, 60, 63, 61, 62, 66, 65, 63, 67, 66, 62, 60, 65, 64, 62, 66, 63, 65, 67, 67, 65, 67, 66, 61, 67, 64, 65, 69, 68, 65, 65, 66, 66, 66, 65, 67, 65, 64, 65, 64, 68, 65, 65, 65, 64, 64, 66, 64, 69, 65, 64, 63, 67, 67, 67, 65, 65, 65, 62, 63, 62, 60, 62, 66, 67, 62, 66, 64, 68, 65, 65, 67, 63, 67, 66, 60, 65, 63, 65, 65, 63, 68, 62, 62, 62, 64, 66, 64, 67, 65, 65, 65, 68, 64, 66, 67, 66, 61, 69, 62, 62, 68, 65, 66, 69, 65, 60, 66, 65, 67, 66, 64, 60, 65, 63, 66, 68, 63, 62, 61, 65, 65, 65, 61, 65, 65, 64, 63, 67, 64, 61, 64, 67, 64, 64, 67, 68, 64, 64, 62, 63, 67, 62, 67, 67, 67, 69, 67, 64, 65]\n",
      "[61 66 70 68 66 70 68 63 65 61]\n"
     ]
    }
   ],
   "source": [
    "print(y_pred)\n",
    "print(y_test[:10])"
   ]
  },
  {
   "cell_type": "code",
   "execution_count": 11,
   "metadata": {},
   "outputs": [],
   "source": [
    "# Save the model\n",
    "save_model(model, 'model.h5')"
   ]
  },
  {
   "cell_type": "code",
   "execution_count": 12,
   "metadata": {},
   "outputs": [
    {
     "data": {
      "text/plain": [
       "['scaler.pkl']"
      ]
     },
     "execution_count": 12,
     "metadata": {},
     "output_type": "execute_result"
    }
   ],
   "source": [
    "joblib.dump(s_scaler, 'scaler.pkl')"
   ]
  },
  {
   "cell_type": "code",
   "execution_count": null,
   "metadata": {},
   "outputs": [],
   "source": []
  }
 ],
 "metadata": {
  "kernelspec": {
   "display_name": ".venv",
   "language": "python",
   "name": "python3"
  },
  "language_info": {
   "codemirror_mode": {
    "name": "ipython",
    "version": 3
   },
   "file_extension": ".py",
   "mimetype": "text/x-python",
   "name": "python",
   "nbconvert_exporter": "python",
   "pygments_lexer": "ipython3",
   "version": "3.10.2"
  }
 },
 "nbformat": 4,
 "nbformat_minor": 2
}
