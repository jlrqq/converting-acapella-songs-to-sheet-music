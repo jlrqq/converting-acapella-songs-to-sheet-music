{
 "cells": [
  {
   "cell_type": "code",
   "execution_count": 1,
   "metadata": {},
   "outputs": [],
   "source": [
    "import pandas as pd\n",
    "import librosa\n",
    "import numpy as np\n",
    "import joblib"
   ]
  },
  {
   "cell_type": "code",
   "execution_count": 2,
   "metadata": {},
   "outputs": [],
   "source": [
    "# Load ground truth annotations from CSV file\n",
    "ground_truth_path = \"../data/csv/en001a.csv\"\n",
    "ground_truth = pd.read_csv(ground_truth_path)\n",
    "\n",
    "# Load audio file\n",
    "audio_path = \"../data/wav/en001a.wav\"\n",
    "audio_data, sr = librosa.load(audio_path)"
   ]
  },
  {
   "cell_type": "code",
   "execution_count": 3,
   "metadata": {},
   "outputs": [],
   "source": [
    "# Define a function to extract features from an audio segment\n",
    "def extract_features(audio_data, onset, offset):\n",
    "    # trim\n",
    "    y_trimmed, _ = librosa.effects.trim(audio_data)\n",
    "    # Extract the audio segment\n",
    "    segment = y_trimmed[int(onset * sr):int(offset * sr)]\n",
    "    # Extract features (e.g., MFCCs)\n",
    "    features = librosa.feature.mfcc(y=segment, sr=sr, n_mfcc=13)\n",
    "    return features.T  # Transpose to have shape (n_frames, n_mfcc)"
   ]
  },
  {
   "cell_type": "code",
   "execution_count": 4,
   "metadata": {},
   "outputs": [
    {
     "name": "stderr",
     "output_type": "stream",
     "text": [
      "c:\\Users\\Admin\\OneDrive - Singapore Management University\\Desktop\\data mining\\project\\test\\.venv\\lib\\site-packages\\librosa\\core\\spectrum.py:257: UserWarning: n_fft=2048 is too large for input signal of length=0\n",
      "  warnings.warn(\n"
     ]
    }
   ],
   "source": [
    "# Extract features according to ground truth annotations\n",
    "features = []\n",
    "pitch_values = []\n",
    "for _, row in ground_truth.iterrows():\n",
    "    onset, offset, pitch = row['start'], row['end'], row['pitch']\n",
    "    segment_features = extract_features(audio_data, onset, offset)\n",
    "    features.append(segment_features)\n",
    "    pitch_values.extend([pitch] * segment_features.shape[0])\n",
    "\n",
    "# Convert features and pitch_values to numpy arrays\n",
    "features = np.vstack(features)\n",
    "pitch_values = np.array(pitch_values)\n"
   ]
  },
  {
   "cell_type": "code",
   "execution_count": 5,
   "metadata": {},
   "outputs": [],
   "source": [
    "from sklearn.model_selection import train_test_split\n",
    "from sklearn.preprocessing import StandardScaler\n",
    "from tensorflow.keras.models import Sequential\n",
    "from tensorflow.keras.layers import LSTM, Dense, Dropout\n",
    "from tensorflow.keras.models import save_model\n",
    "from sklearn.preprocessing import MinMaxScaler\n",
    "from tensorflow.keras.optimizers import Adadelta"
   ]
  },
  {
   "cell_type": "code",
   "execution_count": 6,
   "metadata": {},
   "outputs": [],
   "source": [
    "# Split the data into training and test sets\n",
    "X_train, X_test, y_train, y_test = train_test_split(features, pitch_values, test_size=0.2, random_state=42)\n",
    "\n",
    "# Scale the features\n",
    "s_scaler = StandardScaler()\n",
    "X_train_scaled = s_scaler.fit_transform(X_train)\n",
    "X_test_scaled = s_scaler.transform(X_test)\n",
    "\n",
    "# Reshape y_train to 2D array for fitting the scaler\n",
    "y_train_reshaped = y_train.reshape(-1, 1)\n",
    "\n",
    "# Fit the MinMaxScaler on the y_train_reshaped\n",
    "scaler = MinMaxScaler(feature_range=(0, 127)) # MIDI notes range from 0 to 127\n",
    "scaler.fit(y_train_reshaped)\n",
    "\n",
    "# Reshape features for LSTM input (assuming LSTM expects input shape of (n_samples, n_timesteps, n_features))\n",
    "X_train_reshaped = X_train_scaled.reshape(X_train_scaled.shape[0], 1, X_train_scaled.shape[1])\n",
    "X_test_reshaped = X_test_scaled.reshape(X_test_scaled.shape[0], 1, X_test_scaled.shape[1])"
   ]
  },
  {
   "cell_type": "code",
   "execution_count": 7,
   "metadata": {},
   "outputs": [
    {
     "data": {
      "text/plain": [
       "(1373, 1, 13)"
      ]
     },
     "execution_count": 7,
     "metadata": {},
     "output_type": "execute_result"
    }
   ],
   "source": [
    "X_train_reshaped.shape"
   ]
  },
  {
   "cell_type": "code",
   "execution_count": 1,
   "metadata": {},
   "outputs": [
    {
     "ename": "NameError",
     "evalue": "name 'Sequential' is not defined",
     "output_type": "error",
     "traceback": [
      "\u001b[1;31m---------------------------------------------------------------------------\u001b[0m",
      "\u001b[1;31mNameError\u001b[0m                                 Traceback (most recent call last)",
      "Cell \u001b[1;32mIn[1], line 2\u001b[0m\n\u001b[0;32m      1\u001b[0m \u001b[38;5;66;03m# Define the LSTM model\u001b[39;00m\n\u001b[1;32m----> 2\u001b[0m model \u001b[38;5;241m=\u001b[39m \u001b[43mSequential\u001b[49m([\n\u001b[0;32m      3\u001b[0m     LSTM(\u001b[38;5;241m128\u001b[39m, input_shape\u001b[38;5;241m=\u001b[39m(X_train_reshaped\u001b[38;5;241m.\u001b[39mshape[\u001b[38;5;241m1\u001b[39m], X_train_reshaped\u001b[38;5;241m.\u001b[39mshape[\u001b[38;5;241m2\u001b[39m]), return_sequences\u001b[38;5;241m=\u001b[39m\u001b[38;5;28;01mTrue\u001b[39;00m),\n\u001b[0;32m      4\u001b[0m     \u001b[38;5;66;03m# LSTM(128, input_shape=(X_train_reshaped.shape[1], ), return_sequences=True),\u001b[39;00m\n\u001b[0;32m      5\u001b[0m     Dropout(\u001b[38;5;241m0.2\u001b[39m),\n\u001b[0;32m      6\u001b[0m     LSTM(\u001b[38;5;241m128\u001b[39m),\n\u001b[0;32m      7\u001b[0m     Dropout(\u001b[38;5;241m0.2\u001b[39m),\n\u001b[0;32m      8\u001b[0m     Dense(\u001b[38;5;241m128\u001b[39m, activation\u001b[38;5;241m=\u001b[39m\u001b[38;5;124m'\u001b[39m\u001b[38;5;124mtanh\u001b[39m\u001b[38;5;124m'\u001b[39m),\n\u001b[0;32m      9\u001b[0m     Dense(\u001b[38;5;241m1\u001b[39m)  \u001b[38;5;66;03m# Output layer for pitch prediction\u001b[39;00m\n\u001b[0;32m     10\u001b[0m ])\n\u001b[0;32m     11\u001b[0m \u001b[38;5;66;03m# Adadelta optimizer\u001b[39;00m\n\u001b[0;32m     12\u001b[0m \u001b[38;5;66;03m# optimizer = Adadelta(learning_rate=1.0)\u001b[39;00m\n\u001b[0;32m     13\u001b[0m \u001b[38;5;66;03m# Compile the model\u001b[39;00m\n\u001b[0;32m     14\u001b[0m \u001b[38;5;66;03m# model.compile(optimizer=optimizer, loss='mse')\u001b[39;00m\n\u001b[0;32m     15\u001b[0m model\u001b[38;5;241m.\u001b[39mcompile(optimizer\u001b[38;5;241m=\u001b[39m\u001b[38;5;124m'\u001b[39m\u001b[38;5;124mSGD\u001b[39m\u001b[38;5;124m'\u001b[39m, loss\u001b[38;5;241m=\u001b[39m\u001b[38;5;124m'\u001b[39m\u001b[38;5;124mmse\u001b[39m\u001b[38;5;124m'\u001b[39m)\n",
      "\u001b[1;31mNameError\u001b[0m: name 'Sequential' is not defined"
     ]
    }
   ],
   "source": [
    "# Define the LSTM model\n",
    "model = Sequential([\n",
    "    LSTM(128, input_shape=(X_train_reshaped.shape[1], X_train_reshaped.shape[2]), return_sequences=True),\n",
    "    # LSTM(128, input_shape=(X_train_reshaped.shape[1], ), return_sequences=True),\n",
    "    Dropout(0.2),\n",
    "    LSTM(128),\n",
    "    Dropout(0.2),\n",
    "    Dense(128, activation='tanh'),\n",
    "    Dense(1)  # Output layer for pitch prediction\n",
    "])\n",
    "# Adadelta optimizer\n",
    "# optimizer = Adadelta(learning_rate=1.0)\n",
    "# Compile the model\n",
    "# model.compile(optimizer=optimizer, loss='mse')\n",
    "model.compile(optimizer='SGD', loss='mse')\n",
    "\n",
    "# Train the model\n",
    "model.fit(X_train_reshaped, y_train, validation_data=(X_test_reshaped, y_test), epochs=35, batch_size=5)"
   ]
  },
  {
   "cell_type": "code",
   "execution_count": 10,
   "metadata": {},
   "outputs": [
    {
     "name": "stdout",
     "output_type": "stream",
     "text": [
      "11/11 [==============================] - 2s 3ms/step\n",
      "Mean Squared Error: 3.130813953488372\n",
      "Mean Absolute Error: 1.2761627906976745\n"
     ]
    }
   ],
   "source": [
    "from sklearn.metrics import mean_squared_error, mean_absolute_error\n",
    "\n",
    "# Make predictions on the test set\n",
    "y_pred = model.predict(X_test_reshaped).flatten()\n",
    "y_pred = [int(i) for i in y_pred]\n",
    "\n",
    "# Calculate mean squared error\n",
    "mse = mean_squared_error(y_test, y_pred)\n",
    "\n",
    "# Calculate mean absolute error\n",
    "mae = mean_absolute_error(y_test, y_pred)\n",
    "\n",
    "print(\"Mean Squared Error:\", mse)\n",
    "print(\"Mean Absolute Error:\", mae)\n"
   ]
  },
  {
   "cell_type": "code",
   "execution_count": 11,
   "metadata": {},
   "outputs": [
    {
     "name": "stdout",
     "output_type": "stream",
     "text": [
      "[62, 67, 70, 69, 65, 67, 69, 64, 67, 63, 67, 69, 67, 66, 65, 67, 67, 69, 68, 64, 63, 66, 66, 66, 65, 67, 65, 67, 66, 67, 68, 67, 67, 66, 67, 63, 66, 67, 64, 67, 66, 68, 63, 65, 69, 66, 66, 62, 66, 65, 67, 67, 68, 63, 67, 64, 64, 65, 68, 65, 64, 67, 65, 62, 68, 66, 64, 67, 67, 65, 68, 61, 65, 61, 65, 68, 65, 64, 67, 64, 68, 68, 69, 68, 65, 66, 68, 68, 64, 67, 66, 66, 68, 67, 65, 67, 67, 65, 65, 67, 69, 67, 65, 66, 68, 65, 68, 68, 65, 66, 67, 67, 66, 66, 65, 66, 65, 62, 67, 64, 67, 61, 69, 69, 61, 67, 68, 65, 65, 65, 67, 61, 69, 67, 61, 64, 67, 65, 67, 66, 67, 65, 61, 67, 64, 64, 68, 65, 61, 68, 68, 68, 64, 69, 62, 66, 65, 68, 65, 65, 68, 67, 68, 66, 67, 69, 63, 67, 66, 66, 65, 65, 68, 68, 65, 65, 66, 67, 66, 65, 66, 68, 68, 64, 68, 66, 64, 65, 66, 65, 66, 67, 68, 65, 67, 61, 63, 62, 63, 66, 66, 64, 69, 67, 65, 61, 67, 67, 63, 66, 65, 66, 68, 67, 65, 68, 67, 62, 68, 64, 66, 69, 68, 66, 65, 67, 66, 67, 65, 68, 65, 65, 65, 65, 68, 66, 67, 66, 65, 67, 67, 66, 69, 68, 66, 64, 68, 67, 66, 65, 65, 66, 65, 63, 62, 61, 64, 65, 67, 66, 68, 66, 68, 65, 65, 68, 64, 68, 68, 61, 65, 64, 65, 66, 65, 68, 62, 64, 63, 65, 67, 65, 68, 66, 66, 66, 69, 65, 67, 68, 67, 65, 69, 62, 64, 69, 65, 67, 69, 66, 62, 66, 66, 67, 66, 64, 61, 65, 63, 67, 69, 64, 65, 64, 66, 67, 66, 63, 66, 64, 64, 66, 68, 66, 62, 67, 68, 64, 66, 67, 68, 64, 66, 65, 64, 68, 64, 67, 68, 67, 69, 68, 64, 64]\n",
      "[61 66 70 68 66 70 68 63 65 61]\n"
     ]
    }
   ],
   "source": [
    "print(y_pred)\n",
    "print(y_test[:10])"
   ]
  },
  {
   "cell_type": "code",
   "execution_count": 12,
   "metadata": {},
   "outputs": [],
   "source": [
    "# Save the model\n",
    "save_model(model, 'model.h5')"
   ]
  },
  {
   "cell_type": "code",
   "execution_count": 13,
   "metadata": {},
   "outputs": [
    {
     "data": {
      "text/plain": [
       "['scaler.pkl']"
      ]
     },
     "execution_count": 13,
     "metadata": {},
     "output_type": "execute_result"
    }
   ],
   "source": [
    "joblib.dump(s_scaler, 'scaler.pkl')"
   ]
  },
  {
   "cell_type": "code",
   "execution_count": null,
   "metadata": {},
   "outputs": [],
   "source": []
  }
 ],
 "metadata": {
  "kernelspec": {
   "display_name": ".venv",
   "language": "python",
   "name": "python3"
  },
  "language_info": {
   "codemirror_mode": {
    "name": "ipython",
    "version": 3
   },
   "file_extension": ".py",
   "mimetype": "text/x-python",
   "name": "python",
   "nbconvert_exporter": "python",
   "pygments_lexer": "ipython3",
   "version": "3.10.2"
  }
 },
 "nbformat": 4,
 "nbformat_minor": 2
}
