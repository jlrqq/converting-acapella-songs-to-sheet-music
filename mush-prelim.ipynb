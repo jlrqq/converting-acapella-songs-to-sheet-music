{
 "cells": [
  {
   "cell_type": "markdown",
   "id": "c6c9f62c",
   "metadata": {},
   "source": [
    "# 0. Setup"
   ]
  },
  {
   "cell_type": "markdown",
   "id": "c69127be",
   "metadata": {},
   "source": [
    "This file requires the following to be installed in your machine:\n",
    "- [MuseScore](https://musescore.org/en)\n",
    "- [Lilypond](https://lilypond.org/download.html)\n",
    "\n",
    "Please also install the following libraries that are required:\n",
    "- Pandas\n",
    "- NumPy\n",
    "- Librosa\n",
    "- Matplotlib\n",
    "- midiutil\n",
    "- music21"
   ]
  },
  {
   "cell_type": "code",
   "execution_count": null,
   "id": "854bde32",
   "metadata": {},
   "outputs": [],
   "source": [
    "# !pip install pandas\n",
    "# !pip install numpy\n",
    "# !pip install librosa\n",
    "# !pip install matplotlib\n",
    "# !pip install midiutil\n",
    "# !pip install music21"
   ]
  },
  {
   "cell_type": "code",
   "execution_count": null,
   "id": "b8b807cb",
   "metadata": {},
   "outputs": [],
   "source": [
    "import pandas as pd\n",
    "import numpy as np"
   ]
  },
  {
   "cell_type": "markdown",
   "id": "64d9484c",
   "metadata": {},
   "source": [
    "# 1. Feature Extractions"
   ]
  },
  {
   "cell_type": "code",
   "execution_count": null,
   "id": "641dd1f1",
   "metadata": {},
   "outputs": [],
   "source": [
    "import librosa\n",
    "import librosa.display\n",
    "import matplotlib.pyplot as plt"
   ]
  },
  {
   "cell_type": "code",
   "execution_count": null,
   "id": "92bb817b",
   "metadata": {},
   "outputs": [],
   "source": [
    "# https://www.linkedin.com/pulse/exploring-librosa-comprehensive-guide-audio-feature-extraction-m/\n",
    "\n",
    "# Load the WAV file\n",
    "\n",
    "audio_file = \"data/test.wav\"\n",
    "\n",
    "y, sr = librosa.load(audio_file, sr=None)  # sr=None to preserve the original sampling rate\n",
    "\n",
    "# Extract MFCCs\n",
    "\n",
    "mfccs = librosa.feature.mfcc(y=y, sr=sr, n_mfcc=13)  # You can adjust the number of MFCC coefficients (n_mfcc)\n",
    "\n",
    "# Visualize the MFCCs\n",
    "\n",
    "plt.figure(figsize=(10, 4))\n",
    "\n",
    "librosa.display.specshow(librosa.power_to_db(mfccs, ref=np.max), y_axis='mel', x_axis='time')\n",
    "\n",
    "plt.colorbar(format='%+2.0f dB')\n",
    "\n",
    "plt.title('MFCC')\n",
    "\n",
    "plt.show()"
   ]
  },
  {
   "cell_type": "code",
   "execution_count": null,
   "id": "9d91af93",
   "metadata": {},
   "outputs": [],
   "source": [
    "# https://www.linkedin.com/pulse/exploring-librosa-comprehensive-guide-audio-feature-extraction-m/\n",
    "\n",
    "\n",
    "# Load the WAV file\n",
    "audio_file = \"data/test.wav\"\n",
    "y, sr = librosa.load(audio_file, sr=None)  # sr=None to preserve the original sampling rate\n",
    "\n",
    "# Extract MFCCs\n",
    "mfccs = librosa.feature.mfcc(y=y, sr=sr, n_mfcc=13)  # You can adjust the number of MFCC coefficients (n_mfcc)\n",
    "\n",
    "# Save MFCCs as a CSV file\n",
    "mfccs_df = pd.DataFrame(mfccs)\n",
    "# mfccs_df.to_csv(\"mfccs.csv\", index=False)\n",
    "\n",
    "# Visualize the MFCCs\n",
    "# plt.figure(figsize=(10, 4))\n",
    "# librosa.display.specshow(librosa.power_to_db(mfccs, ref=np.max), y_axis='mel', x_axis='time')\n",
    "# plt.colorbar(format='%+2.0f dB')\n",
    "# plt.title('MFCC')\n",
    "# plt.show()\n",
    "\n",
    "mfccs_df"
   ]
  },
  {
   "cell_type": "markdown",
   "id": "51984d88",
   "metadata": {},
   "source": [
    "# 2. Convert into MIDI file"
   ]
  },
  {
   "cell_type": "code",
   "execution_count": null,
   "id": "1df6eab8",
   "metadata": {},
   "outputs": [],
   "source": [
    "from midiutil import MIDIFile"
   ]
  },
  {
   "cell_type": "code",
   "execution_count": null,
   "id": "45e943c7",
   "metadata": {},
   "outputs": [],
   "source": [
    "degrees  = [60, 62, 64, 65, 67, 69, 71, 72] # MIDI note number\n",
    "track    = 0\n",
    "channel  = 0\n",
    "time     = 0   # In beats\n",
    "duration = 1   # In beats\n",
    "tempo    = 60  # In BPM\n",
    "volume   = 100 # 0-127, as per the MIDI standard\n",
    "\n",
    "MyMIDI = MIDIFile(1) # One track, defaults to format 1 (tempo track\n",
    "                     # automatically created)\n",
    "MyMIDI.addTempo(track,time, tempo)\n",
    "\n",
    "for pitch in degrees:\n",
    "    MyMIDI.addNote(track, channel, pitch, time, duration, volume)\n",
    "    time = time + 1\n",
    "\n",
    "with open(\"midi-output/major-scale.mid\", \"wb\") as output_file:\n",
    "    MyMIDI.writeFile(output_file)"
   ]
  },
  {
   "cell_type": "markdown",
   "id": "3e96f187",
   "metadata": {},
   "source": [
    "# 3. Convert MIDI file into Sheet Music"
   ]
  },
  {
   "cell_type": "code",
   "execution_count": null,
   "id": "81f09195",
   "metadata": {},
   "outputs": [],
   "source": [
    "from music21 import converter, stream"
   ]
  },
  {
   "cell_type": "code",
   "execution_count": null,
   "id": "f5861b10",
   "metadata": {},
   "outputs": [],
   "source": [
    "from music21 import converter, stream\n",
    "\n",
    "# Step 1: Load the MIDI file\n",
    "midi_file_path = \"midi-output/major-scale.mid\"\n",
    "midi_stream = converter.parse(midi_file_path)\n",
    "\n",
    "# Step 2: Convert MIDI file into a music21 Score object\n",
    "score = stream.Score()\n",
    "for part in midi_stream.parts:\n",
    "    score.insert(0, part)\n",
    "\n",
    "# Step 3: Show or save the Score object as sheet music\n",
    "# You can either show the score\n",
    "# score.show()\n",
    "\n",
    "# Or save it as a PDF or other formats\n",
    "ly_file_path = \"lilypond-export/sheet_music.ly\"\n",
    "score.write('lilypond', ly_file_path)\n",
    "\n",
    "# Step 4: Convert LilyPond file to PDF or SVG using LilyPond software\n",
    "# You can do this manually using LilyPond software or command line\n",
    "# Or you can use a library or tool to automate the conversion process\n",
    "# For example, you can use the `subprocess` module to run LilyPond from Python\n",
    "\n",
    "# Example using subprocess (requires LilyPond installed on your system):\n",
    "import subprocess\n",
    "output_file_name = \"sheet-music-export/sheet_music\"\n",
    "subprocess.run(['lilypond', '--pdf', '-o', output_file_name, ly_file_path])  # Convert to PDF"
   ]
  }
 ],
 "metadata": {
  "kernelspec": {
   "display_name": "Python 3 (ipykernel)",
   "language": "python",
   "name": "python3"
  },
  "language_info": {
   "codemirror_mode": {
    "name": "ipython",
    "version": 3
   },
   "file_extension": ".py",
   "mimetype": "text/x-python",
   "name": "python",
   "nbconvert_exporter": "python",
   "pygments_lexer": "ipython3",
   "version": "3.11.4"
  }
 },
 "nbformat": 4,
 "nbformat_minor": 5
}
