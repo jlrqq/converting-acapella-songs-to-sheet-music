{
 "cells": [
  {
   "cell_type": "markdown",
   "id": "a98f599c",
   "metadata": {},
   "source": [
    "# Table of Content"
   ]
  },
  {
   "cell_type": "markdown",
   "id": "011afcbb",
   "metadata": {},
   "source": [
    "0. [Setup](#0.-Setup)\n",
    "1. [Feature Extraction](#1.-Feature-Extractions)\n",
    "2. [Convert Features into MIDI file](#2.-Convert-Features-into-MIDI-file)\n",
    "3. [Convert MIDI file into Sheet Music](#3.-Convert-MIDI-file-into-Sheet-Music)"
   ]
  },
  {
   "cell_type": "markdown",
   "id": "f02fb097",
   "metadata": {},
   "source": [
    "# 0. Setup"
   ]
  },
  {
   "cell_type": "markdown",
   "id": "66eb9ef2",
   "metadata": {},
   "source": [
    "This file requires the following to be installed in your machine:\n",
    "- [MuseScore](https://musescore.org/en)\n",
    "- [Lilypond](https://lilypond.org/download.html)\n",
    "\n",
    "Please also install the following libraries that are required:\n",
    "- Pandas\n",
    "- NumPy\n",
    "- Librosa\n",
    "- Matplotlib\n",
    "- midiutil\n",
    "- music21"
   ]
  },
  {
   "cell_type": "code",
   "execution_count": null,
   "id": "4cc5f9ef",
   "metadata": {},
   "outputs": [],
   "source": [
    "# !pip install pandas\n",
    "# !pip install numpy\n",
    "# !pip install librosa\n",
    "# !pip install matplotlib\n",
    "# !pip install midiutil\n",
    "# !pip install music21"
   ]
  },
  {
   "cell_type": "code",
   "execution_count": null,
   "id": "70c43629",
   "metadata": {},
   "outputs": [],
   "source": [
    "import pandas as pd\n",
    "import numpy as np"
   ]
  },
  {
   "cell_type": "markdown",
   "id": "2686840a",
   "metadata": {},
   "source": [
    "# 1. Feature Extractions"
   ]
  },
  {
   "cell_type": "code",
   "execution_count": null,
   "id": "7a0700a4",
   "metadata": {},
   "outputs": [],
   "source": [
    "import librosa\n",
    "import librosa.display\n",
    "import matplotlib.pyplot as plt"
   ]
  },
  {
   "cell_type": "code",
   "execution_count": null,
   "id": "3ea14f55",
   "metadata": {},
   "outputs": [],
   "source": [
    "# https://www.linkedin.com/pulse/exploring-librosa-comprehensive-guide-audio-feature-extraction-m/\n",
    "\n",
    "# Load the WAV file\n",
    "\n",
    "audio_file = \"data/en001a.wav\"\n",
    "\n",
    "y, sr = librosa.load(audio_file, sr=None)  # sr=None to preserve the original sampling rate\n",
    "\n",
    "# Extract MFCCs\n",
    "\n",
    "mfccs = librosa.feature.mfcc(y=y, sr=sr, n_mfcc=13)  # You can adjust the number of MFCC coefficients (n_mfcc)\n",
    "\n",
    "# Visualize the MFCCs\n",
    "\n",
    "plt.figure(figsize=(10, 4))\n",
    "\n",
    "librosa.display.specshow(librosa.power_to_db(mfccs, ref=np.max), y_axis='mel', x_axis='time')\n",
    "\n",
    "plt.colorbar(format='%+2.0f dB')\n",
    "\n",
    "plt.title('MFCC')\n",
    "\n",
    "plt.show()"
   ]
  },
  {
   "cell_type": "code",
   "execution_count": null,
   "id": "5e15a494",
   "metadata": {},
   "outputs": [],
   "source": [
    "# https://www.linkedin.com/pulse/exploring-librosa-comprehensive-guide-audio-feature-extraction-m/\n",
    "\n",
    "\n",
    "# Load the WAV file\n",
    "audio_file = \"data/en001a.wav\"\n",
    "y, sr = librosa.load(audio_file, sr=None)  # sr=None to preserve the original sampling rate\n",
    "\n",
    "# Extract MFCCs\n",
    "mfccs = librosa.feature.mfcc(y=y, sr=sr, n_mfcc=13)  # You can adjust the number of MFCC coefficients (n_mfcc)\n",
    "\n",
    "# Save MFCCs as a CSV file\n",
    "mfccs_df = pd.DataFrame(mfccs)\n",
    "# mfccs_df.to_csv(\"mfccs.csv\", index=False)\n",
    "\n",
    "# Visualize the MFCCs\n",
    "# plt.figure(figsize=(10, 4))\n",
    "# librosa.display.specshow(librosa.power_to_db(mfccs, ref=np.max), y_axis='mel', x_axis='time')\n",
    "# plt.colorbar(format='%+2.0f dB')\n",
    "# plt.title('MFCC')\n",
    "# plt.show()\n",
    "\n",
    "mfccs_df"
   ]
  },
  {
   "cell_type": "code",
   "execution_count": null,
   "id": "47e54706",
   "metadata": {},
   "outputs": [],
   "source": [
    "pitches, magnitudes = librosa.piptrack(y=y, sr=sr)\n",
    "# beat_times = librosa.frames_to_time(frames,sr=sr)\n",
    "librosa.display.waveshow(y, sr=sr, alpha=0.25)"
   ]
  },
  {
   "cell_type": "code",
   "execution_count": null,
   "id": "f3bab89f",
   "metadata": {},
   "outputs": [],
   "source": [
    "S = np.abs(librosa.stft(y))\n",
    "chroma = librosa.feature.chroma_stft(S=S, sr=sr)\n",
    "\n",
    "\n",
    "fig, ax = plt.subplots(nrows=2, sharex=True)\n",
    "img = librosa.display.specshow(librosa.amplitude_to_db(S, ref=np.max),\n",
    "                               y_axis='log', x_axis='time', ax=ax[0])\n",
    "fig.colorbar(img, ax=[ax[0]])\n",
    "ax[0].label_outer()\n",
    "img = librosa.display.specshow(chroma, y_axis='chroma', x_axis='time', ax=ax[1])\n",
    "fig.colorbar(img, ax=[ax[1]])"
   ]
  },
  {
   "cell_type": "markdown",
   "id": "666f9590",
   "metadata": {},
   "source": [
    "# 2. Convert Features into MIDI file"
   ]
  },
  {
   "cell_type": "code",
   "execution_count": null,
   "id": "d093045d",
   "metadata": {},
   "outputs": [],
   "source": [
    "from midiutil import MIDIFile"
   ]
  },
  {
   "cell_type": "code",
   "execution_count": null,
   "id": "254d810a",
   "metadata": {},
   "outputs": [],
   "source": [
    "# degrees  = [60, 62, 64, 65, 67, 69, 71, 72] # MIDI note number\n",
    "# track    = 0\n",
    "# channel  = 0\n",
    "# time     = 0   # In beats\n",
    "# duration = 1   # In beats\n",
    "# tempo    = 60  # In BPM\n",
    "# volume   = 100 # 0-127, as per the MIDI standard\n",
    "\n",
    "# MyMIDI = MIDIFile(1) # One track, defaults to format 1 (tempo track\n",
    "#                      # automatically created)\n",
    "# MyMIDI.addTempo(track,time, tempo)\n",
    "\n",
    "# for pitch in degrees:\n",
    "#     MyMIDI.addNote(track, channel, pitch, time, duration, volume)\n",
    "#     time = time + 1\n",
    "\n",
    "# with open(\"midi-output/en001a.mid\", \"wb\") as output_file:\n",
    "#     MyMIDI.writeFile(output_file)"
   ]
  },
  {
   "cell_type": "markdown",
   "id": "3c72b062",
   "metadata": {},
   "source": [
    "# 3. Convert MIDI file into Sheet Music"
   ]
  },
  {
   "cell_type": "code",
   "execution_count": null,
   "id": "4eea8fa5",
   "metadata": {},
   "outputs": [],
   "source": [
    "from music21 import converter, stream\n",
    "\n",
    "# Step 1: Load the MIDI file\n",
    "midi_file_path = \"midi-output/major-scale.mid\"\n",
    "midi_stream = converter.parse(midi_file_path)\n",
    "\n",
    "# Step 2: Convert MIDI file into a music21 Score object\n",
    "score = stream.Score()\n",
    "for part in midi_stream.parts:\n",
    "    score.insert(0, part)\n",
    "\n",
    "# Step 3: Show or save the Score object as sheet music\n",
    "# You can either show the score\n",
    "# score.show()\n",
    "\n",
    "# Or save it as a PDF or other formats\n",
    "ly_file_path = \"lilypond-export/sheet_music.ly\"\n",
    "score.write('lilypond', ly_file_path)\n",
    "\n",
    "# Step 4: Convert LilyPond file to PDF or SVG using LilyPond software\n",
    "# You can do this manually using LilyPond software or command line\n",
    "# Or you can use a library or tool to automate the conversion process\n",
    "# For example, you can use the `subprocess` module to run LilyPond from Python\n",
    "\n",
    "# Example using subprocess (requires LilyPond installed on your system):\n",
    "import subprocess\n",
    "output_file_name = \"sheet-music-export/sheet_music\"\n",
    "subprocess.run(['lilypond', '--pdf', '-o', output_file_name, ly_file_path])  # Convert to PDF"
   ]
  },
  {
   "cell_type": "markdown",
   "id": "bbc21132",
   "metadata": {},
   "source": [
    "# 4. Testing on en001a.wav"
   ]
  },
  {
   "cell_type": "code",
   "execution_count": null,
   "id": "2638b329",
   "metadata": {},
   "outputs": [],
   "source": [
    "# get pitches\n",
    "\n",
    "import librosa\n",
    "import numpy as np\n",
    "\n",
    "# Load the audio file\n",
    "y, sr = librosa.load('data/en001a.wav')\n",
    "\n",
    "# Extract pitch and magnitude using Harmonic-Percussive Source Separation (HPSS)\n",
    "pitches, magnitudes = librosa.piptrack(y=y, sr=sr)\n",
    "\n",
    "# Get the mean pitch over time\n",
    "mean_pitches = np.mean(pitches, axis=0)\n",
    "\n",
    "# Plot the pitch contour\n",
    "import matplotlib.pyplot as plt\n",
    "\n",
    "plt.figure(figsize=(10, 4))\n",
    "plt.plot(librosa.times_like(mean_pitches), mean_pitches, label='Pitch (Hz)')\n",
    "plt.xlabel('Time (s)')\n",
    "plt.ylabel('Pitch (Hz)')\n",
    "plt.title('Pitch Contour')\n",
    "plt.legend()\n",
    "plt.show()"
   ]
  },
  {
   "cell_type": "code",
   "execution_count": null,
   "id": "97528b1a",
   "metadata": {
    "scrolled": false
   },
   "outputs": [],
   "source": [
    "# convert each pitch into a midi note\n",
    "\n",
    "import numpy as np\n",
    "\n",
    "# Function to convert pitch values to MIDI notes\n",
    "def pitch_to_midi(pitch):\n",
    "    if pitch == 0:\n",
    "        return 0\n",
    "    result = 69 + 12 * np.log2(pitch / 440)\n",
    "    if result < 0:\n",
    "        return 0\n",
    "    return result\n",
    "\n",
    "# Example usage\n",
    "# pitch_in_hz = 440  # Example pitch value in Hz\n",
    "# midi_note = pitch_to_midi(pitch_in_hz)\n",
    "# print(\"MIDI note:\", midi_note)\n",
    "\n",
    "midi_pitches = []\n",
    "\n",
    "for pitch in mean_pitches:\n",
    "    midi_pitches.append(int(pitch_to_midi(pitch)))\n",
    "    \n",
    "plt.figure(figsize=(10, 4))\n",
    "plt.plot(librosa.times_like(np.asarray(midi_pitches)), midi_pitches, label='Pitch (Midi Notes)')\n",
    "plt.xlabel('Time (s)')\n",
    "plt.ylabel('Pitch (Midi Notes)')\n",
    "plt.title('Pitch Contour')\n",
    "plt.legend()\n",
    "plt.show()"
   ]
  },
  {
   "cell_type": "code",
   "execution_count": null,
   "id": "909de773",
   "metadata": {},
   "outputs": [],
   "source": [
    "from midiutil import MIDIFile"
   ]
  },
  {
   "cell_type": "code",
   "execution_count": null,
   "id": "00826687",
   "metadata": {},
   "outputs": [],
   "source": [
    "degrees  = midi_pitches\n",
    "track    = 0\n",
    "channel  = 0\n",
    "time     = 0   # In beats\n",
    "duration = 1   # In beats\n",
    "tempo    = 100  # In BPM\n",
    "volume   = 100 # 0-127, as per the MIDI standard\n",
    "\n",
    "MyMIDI = MIDIFile(1) # One track, defaults to format 1 (tempo track\n",
    "                     # automatically created)\n",
    "MyMIDI.addTempo(track,time, tempo)\n",
    "\n",
    "for pitch in degrees:\n",
    "    MyMIDI.addNote(track, channel, pitch, time, duration, volume)\n",
    "    time = time + 1\n",
    "\n",
    "with open(\"midi-output/en001a.mid\", \"wb\") as output_file:\n",
    "    MyMIDI.writeFile(output_file)"
   ]
  },
  {
   "cell_type": "code",
   "execution_count": null,
   "id": "025876f4",
   "metadata": {},
   "outputs": [],
   "source": [
    "from music21 import converter, stream\n",
    "\n",
    "# Step 1: Load the MIDI file\n",
    "midi_file_path = \"midi-output/en001a.mid\"\n",
    "midi_stream = converter.parse(midi_file_path)\n",
    "\n",
    "# Step 2: Convert MIDI file into a music21 Score object\n",
    "score = stream.Score()\n",
    "for part in midi_stream.parts:\n",
    "    score.insert(0, part)\n",
    "\n",
    "# Step 3: Show or save the Score object as sheet music\n",
    "# You can either show the score\n",
    "# score.show()\n",
    "\n",
    "# Or save it as a PDF or other formats\n",
    "ly_file_path = \"lilypond-export/en001a_sheet_music.ly\"\n",
    "score.write('lilypond', ly_file_path)\n",
    "\n",
    "# Step 4: Convert LilyPond file to PDF or SVG using LilyPond software\n",
    "# You can do this manually using LilyPond software or command line\n",
    "# Or you can use a library or tool to automate the conversion process\n",
    "# For example, you can use the `subprocess` module to run LilyPond from Python\n",
    "\n",
    "# Example using subprocess (requires LilyPond installed on your system):\n",
    "import subprocess\n",
    "output_file_name = \"sheet-music-export/en001a_sheet\"\n",
    "subprocess.run(['lilypond', '--pdf', '-o', output_file_name, ly_file_path])  # Convert to PDF"
   ]
  }
 ],
 "metadata": {
  "kernelspec": {
   "display_name": "Python 3 (ipykernel)",
   "language": "python",
   "name": "python3"
  },
  "language_info": {
   "codemirror_mode": {
    "name": "ipython",
    "version": 3
   },
   "file_extension": ".py",
   "mimetype": "text/x-python",
   "name": "python",
   "nbconvert_exporter": "python",
   "pygments_lexer": "ipython3",
   "version": "3.11.4"
  }
 },
 "nbformat": 4,
 "nbformat_minor": 5
}
