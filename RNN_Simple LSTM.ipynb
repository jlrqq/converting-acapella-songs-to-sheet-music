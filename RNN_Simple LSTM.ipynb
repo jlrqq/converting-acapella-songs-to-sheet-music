{
 "cells": [
  {
   "cell_type": "code",
   "execution_count": 1,
   "metadata": {},
   "outputs": [
    {
     "name": "stdout",
     "output_type": "stream",
     "text": [
      "Requirement already satisfied: protobuf==3.20.* in /opt/anaconda3/lib/python3.8/site-packages (3.20.3)\n",
      "\n",
      "\u001b[1m[\u001b[0m\u001b[34;49mnotice\u001b[0m\u001b[1;39;49m]\u001b[0m\u001b[39;49m A new release of pip is available: \u001b[0m\u001b[31;49m23.1.2\u001b[0m\u001b[39;49m -> \u001b[0m\u001b[32;49m24.0\u001b[0m\n",
      "\u001b[1m[\u001b[0m\u001b[34;49mnotice\u001b[0m\u001b[1;39;49m]\u001b[0m\u001b[39;49m To update, run: \u001b[0m\u001b[32;49mpip3.8 install --upgrade pip\u001b[0m\n",
      "Note: you may need to restart the kernel to use updated packages.\n"
     ]
    }
   ],
   "source": [
    "pip install protobuf==3.20.*"
   ]
  },
  {
   "cell_type": "code",
   "execution_count": 2,
   "metadata": {},
   "outputs": [
    {
     "name": "stderr",
     "output_type": "stream",
     "text": [
      "/opt/anaconda3/lib/python3.8/site-packages/pandas/core/computation/expressions.py:20: UserWarning: Pandas requires version '2.7.3' or newer of 'numexpr' (version '2.7.1' currently installed).\n",
      "  from pandas.core.computation.check import NUMEXPR_INSTALLED\n"
     ]
    }
   ],
   "source": [
    "import pandas as pd\n",
    "import numpy as np"
   ]
  },
  {
   "cell_type": "code",
   "execution_count": 3,
   "metadata": {},
   "outputs": [],
   "source": [
    "import librosa\n",
    "import librosa.display\n",
    "import matplotlib.pyplot as plt\n",
    "\n",
    "from sklearn.model_selection import train_test_split\n",
    "from keras.models import Sequential\n",
    "from keras.layers import LSTM, Dense, Dropout\n",
    "\n",
    "import music21\n",
    "import subprocess"
   ]
  },
  {
   "cell_type": "code",
   "execution_count": 4,
   "metadata": {},
   "outputs": [
    {
     "name": "stdout",
     "output_type": "stream",
     "text": [
      "[[-603.7592 -603.7592 -603.7592 ... -603.7592 -603.7592 -603.7592]\n",
      " [   0.        0.        0.     ...    0.        0.        0.    ]\n",
      " [   0.        0.        0.     ...    0.        0.        0.    ]\n",
      " ...\n",
      " [   0.        0.        0.     ...    0.        0.        0.    ]\n",
      " [   0.        0.        0.     ...    0.        0.        0.    ]\n",
      " [   0.        0.        0.     ...    0.        0.        0.    ]]\n"
     ]
    },
    {
     "data": {
      "image/png": "[encoded data removed]",
      "text/plain": [
       "<Figure size 720x288 with 2 Axes>"
      ]
     },
     "metadata": {
      "needs_background": "light"
     },
     "output_type": "display_data"
    }
   ],
   "source": [
    "# Load the WAV file\n",
    "audio_file = \"data/en001a.wav\"\n",
    "\n",
    "y, sr = librosa.load(audio_file, sr=None)  # sr=None to preserve the original sampling rate\n",
    "\n",
    "# Extract Mel-Frequency Cepstral Coefficients (MFCCs)\n",
    "mfccs = librosa.feature.mfcc(y=y, sr=sr, n_mfcc=13)  # To adjust the number of MFCC coefficients (n_mfcc)\n",
    "print(mfccs)\n",
    "\n",
    "# Visualize the MFCCs\n",
    "plt.figure(figsize=(10, 4))\n",
    "\n",
    "librosa.display.specshow(librosa.power_to_db(mfccs, ref=np.max), y_axis='mel', x_axis='time')\n",
    "\n",
    "plt.colorbar(format='%+2.0f dB')\n",
    "\n",
    "plt.title('Mel-Frequency Cepstral Coefficients')\n",
    "\n",
    "plt.show()"
   ]
  },
  {
   "cell_type": "code",
   "execution_count": 5,
   "metadata": {},
   "outputs": [
    {
     "name": "stdout",
     "output_type": "stream",
     "text": [
      "Epoch 1/10\n",
      "140/140 [==============================] - 5s 7ms/step - loss: 0.6937 - accuracy: 0.5064 - val_loss: 0.6937 - val_accuracy: 0.5067\n",
      "Epoch 2/10\n",
      "140/140 [==============================] - 0s 3ms/step - loss: 0.6936 - accuracy: 0.5080 - val_loss: 0.6936 - val_accuracy: 0.4915\n",
      "Epoch 3/10\n",
      "140/140 [==============================] - 0s 3ms/step - loss: 0.6934 - accuracy: 0.5059 - val_loss: 0.6953 - val_accuracy: 0.4736\n",
      "Epoch 4/10\n",
      "140/140 [==============================] - 0s 3ms/step - loss: 0.6933 - accuracy: 0.5120 - val_loss: 0.6962 - val_accuracy: 0.4933\n",
      "Epoch 5/10\n",
      "140/140 [==============================] - 0s 3ms/step - loss: 0.6941 - accuracy: 0.4943 - val_loss: 0.6952 - val_accuracy: 0.4754\n",
      "Epoch 6/10\n",
      "140/140 [==============================] - 0s 3ms/step - loss: 0.6932 - accuracy: 0.5035 - val_loss: 0.6950 - val_accuracy: 0.4933\n",
      "Epoch 7/10\n",
      "140/140 [==============================] - 0s 3ms/step - loss: 0.6938 - accuracy: 0.4979 - val_loss: 0.6947 - val_accuracy: 0.4942\n",
      "Epoch 8/10\n",
      "140/140 [==============================] - 0s 3ms/step - loss: 0.6936 - accuracy: 0.4963 - val_loss: 0.6941 - val_accuracy: 0.4799\n",
      "Epoch 9/10\n",
      "140/140 [==============================] - 0s 3ms/step - loss: 0.6933 - accuracy: 0.4999 - val_loss: 0.6945 - val_accuracy: 0.4843\n",
      "Epoch 10/10\n",
      "140/140 [==============================] - 0s 3ms/step - loss: 0.6930 - accuracy: 0.5086 - val_loss: 0.6951 - val_accuracy: 0.4584\n"
     ]
    },
    {
     "data": {
      "text/plain": [
       "<keras.callbacks.History at 0x7fbe0f316340>"
      ]
     },
     "execution_count": 5,
     "metadata": {},
     "output_type": "execute_result"
    }
   ],
   "source": [
    "# Assuming you have corresponding labels for each time step\n",
    "# Replace this with your actual target labels\n",
    "labels = np.random.randint(0, 2, size=mfccs.shape[1])  # Replace with actual labels\n",
    "\n",
    "# Split the data into training and testing sets\n",
    "X_train, X_test, y_train, y_test = train_test_split(mfccs.T, labels, test_size=0.2, random_state=42)\n",
    "\n",
    "# Reshape the data for LSTM input (batch_size, time_steps, features)\n",
    "X_train = X_train.reshape((X_train.shape[0], 1, X_train.shape[1]))\n",
    "X_test = X_test.reshape((X_test.shape[0], 1, X_test.shape[1]))\n",
    "\n",
    "# Build the LSTM model with two LSTM layers and a binary output\n",
    "model = Sequential()\n",
    "model.add(LSTM(50, return_sequences=True, input_shape=(X_train.shape[1], X_train.shape[2])))\n",
    "model.add(Dropout(0.2))  # Optional Dropout layer for regularization\n",
    "model.add(LSTM(50))\n",
    "model.add(Dense(1, activation='sigmoid'))  # Adjust the output layer based on your task\n",
    "\n",
    "# Compile the model\n",
    "model.compile(loss='binary_crossentropy', optimizer='adam', metrics=['accuracy'])\n",
    "\n",
    "# Train the model\n",
    "model.fit(X_train, y_train, epochs=10, batch_size=32, validation_data=(X_test, y_test))"
   ]
  },
  {
   "cell_type": "code",
   "execution_count": 6,
   "metadata": {},
   "outputs": [],
   "source": [
    "# Assuming your model is trained, now predict pitch labels for a new sequence\n",
    "predicted_probabilities = model.predict(X_test)\n",
    "\n",
    "# Convert probabilities to binary labels (0 or 1) based on a threshold\n",
    "threshold = 0.5  # Adjust this threshold based on your task\n",
    "predicted_labels = (predicted_probabilities > threshold).astype(int)\n",
    "\n",
    "# Convert binary labels to MIDI notes with a fixed pitch and duration\n",
    "midi_notes = [music21.note.Note(pitch=60, quarterLength=0.5) if label == 1 else music21.note.Rest(quarterLength=0.5) for label in predicted_labels.flatten()]\n",
    "\n",
    "# Create a music21 stream to represent the sheet music\n",
    "s = music21.stream.Score()\n",
    "p = music21.stream.Part()\n",
    "\n",
    "# Add key and time signature\n",
    "p.append(music21.key.KeySignature(0))  # C major\n",
    "p.append(music21.meter.TimeSignature('4/4'))\n",
    "\n",
    "# Add notes to the part based on the predicted MIDI notes\n",
    "p.append(midi_notes)\n",
    "\n",
    "# Add the part to the score\n",
    "s.append(p)"
   ]
  },
  {
   "cell_type": "code",
   "execution_count": 7,
   "metadata": {},
   "outputs": [
    {
     "data": {
      "text/plain": [
       "CompletedProcess(args=['lilypond', '--pdf', '-o', 'sheet-music-export/en001a_sheet', 'lilypond-export/en001a_sheet_music.ly'], returncode=1)"
      ]
     },
     "execution_count": 7,
     "metadata": {},
     "output_type": "execute_result"
    }
   ],
   "source": [
    "# Save the MIDI file\n",
    "midi_file_path = \"midi-output/predicted_music.mid\"\n",
    "s.write('midi', fp=midi_file_path)\n",
    "\n",
    "# Step 1: Load the MIDI file\n",
    "midi_file_path = \"midi-output/predicted_music.mid\"\n",
    "midi_stream = music21.converter.parse(midi_file_path)\n",
    "\n",
    "# Step 2: Convert MIDI file into a music21 Score object\n",
    "score = music21.stream.Score()\n",
    "for part in midi_stream.parts:\n",
    "    # Instead of inserting at position 0, insert at the end of the score\n",
    "    score.append(part)\n",
    "    \n",
    "# Step 3: Show or save the Score object as sheet music\n",
    "# You can either show the score\n",
    "# score.show()\n",
    "\n",
    "# Or save it as a PDF or other formats\n",
    "ly_file_path = \"lilypond-export/en001a_sheet_music.ly\"\n",
    "score.write('lilypond', ly_file_path)\n",
    "\n",
    "# Step 4: Convert LilyPond file to PDF or SVG using LilyPond software\n",
    "# You can do this manually using LilyPond software or command line\n",
    "# Or you can use a library or tool to automate the conversion process\n",
    "# For example, you can use the `subprocess` module to run LilyPond from Python\n",
    "\n",
    "# Example using subprocess (requires LilyPond installed on your system):\n",
    "import subprocess\n",
    "output_file_name = \"sheet-music-export/en001a_sheet\"\n",
    "subprocess.run(['lilypond', '--pdf', '-o', output_file_name, ly_file_path])  # Convert to PDF"
   ]
  },
  {
   "cell_type": "code",
   "execution_count": null,
   "metadata": {},
   "outputs": [],
   "source": []
  }
 ],
 "metadata": {
  "kernelspec": {
   "display_name": "Python 3",
   "language": "python",
   "name": "python3"
  },
  "language_info": {
   "codemirror_mode": {
    "name": "ipython",
    "version": 3
   },
   "file_extension": ".py",
   "mimetype": "text/x-python",
   "name": "python",
   "nbconvert_exporter": "python",
   "pygments_lexer": "ipython3",
   "version": "3.8.3"
  }
 },
 "nbformat": 4,
 "nbformat_minor": 4
}
